{
 "cells": [
  {
   "cell_type": "code",
   "execution_count": 1,
   "id": "4b26adc7",
   "metadata": {
    "_cell_guid": "b1076dfc-b9ad-4769-8c92-a6c4dae69d19",
    "_uuid": "8f2839f25d086af736a60e9eeb907d3b93b6e0e5",
    "execution": {
     "iopub.execute_input": "2023-04-23T08:49:32.638635Z",
     "iopub.status.busy": "2023-04-23T08:49:32.638213Z",
     "iopub.status.idle": "2023-04-23T08:49:34.082937Z",
     "shell.execute_reply": "2023-04-23T08:49:34.081801Z"
    },
    "papermill": {
     "duration": 1.456083,
     "end_time": "2023-04-23T08:49:34.086772",
     "exception": false,
     "start_time": "2023-04-23T08:49:32.630689",
     "status": "completed"
    },
    "tags": []
   },
   "outputs": [
    {
     "name": "stdout",
     "output_type": "stream",
     "text": [
      "/kaggle/input/titanic/train.csv\n",
      "/kaggle/input/titanic/test.csv\n",
      "/kaggle/input/titanic/gender_submission.csv\n"
     ]
    }
   ],
   "source": [
    "# This Python 3 environment comes with many helpful analytics libraries installed\n",
    "# It is defined by the kaggle/python Docker image: https://github.com/kaggle/docker-python\n",
    "# For example, here's several helpful packages to load\n",
    "\n",
    "import numpy as np # linear algebra\n",
    "import pandas as pd # data processing, CSV file I/O (e.g. pd.read_csv)\n",
    "from sklearn.linear_model import LogisticRegression\n",
    "from sklearn.model_selection import train_test_split\n",
    "from sklearn.metrics import accuracy_score\n",
    "from sklearn.impute import SimpleImputer\n",
    "# Input data files are available in the read-only \"../input/\" directory\n",
    "# For example, running this (by clicking run or pressing Shift+Enter) will list all files under the input directory\n",
    "\n",
    "import os\n",
    "for dirname, _, filenames in os.walk('/kaggle/input'):\n",
    "    for filename in filenames:\n",
    "        print(os.path.join(dirname, filename))\n",
    "\n",
    "# You can write up to 20GB to the current directory (/kaggle/working/) that gets preserved as output when you create a version using \"Save & Run All\" \n",
    "# You can also write temporary files to /kaggle/temp/, but they won't be saved outside of the current session"
   ]
  },
  {
   "cell_type": "code",
   "execution_count": 2,
   "id": "f10e5552",
   "metadata": {
    "execution": {
     "iopub.execute_input": "2023-04-23T08:49:34.098100Z",
     "iopub.status.busy": "2023-04-23T08:49:34.097272Z",
     "iopub.status.idle": "2023-04-23T08:49:34.134382Z",
     "shell.execute_reply": "2023-04-23T08:49:34.132776Z"
    },
    "papermill": {
     "duration": 0.046216,
     "end_time": "2023-04-23T08:49:34.137673",
     "exception": false,
     "start_time": "2023-04-23T08:49:34.091457",
     "status": "completed"
    },
    "tags": []
   },
   "outputs": [],
   "source": [
    "gender_submission=pd.read_csv('/kaggle/input/titanic/gender_submission.csv')\n",
    "test_data=pd.read_csv('/kaggle/input/titanic/test.csv')\n",
    "train_data=pd.read_csv('/kaggle/input/titanic/train.csv')"
   ]
  },
  {
   "cell_type": "code",
   "execution_count": 3,
   "id": "5977e5e9",
   "metadata": {
    "execution": {
     "iopub.execute_input": "2023-04-23T08:49:34.149029Z",
     "iopub.status.busy": "2023-04-23T08:49:34.148229Z",
     "iopub.status.idle": "2023-04-23T08:49:34.173839Z",
     "shell.execute_reply": "2023-04-23T08:49:34.172345Z"
    },
    "papermill": {
     "duration": 0.034567,
     "end_time": "2023-04-23T08:49:34.176820",
     "exception": false,
     "start_time": "2023-04-23T08:49:34.142253",
     "status": "completed"
    },
    "tags": []
   },
   "outputs": [
    {
     "name": "stdout",
     "output_type": "stream",
     "text": [
      "     PassengerId  Survived  Pclass  \\\n",
      "0              1         0       3   \n",
      "1              2         1       1   \n",
      "2              3         1       3   \n",
      "3              4         1       1   \n",
      "4              5         0       3   \n",
      "..           ...       ...     ...   \n",
      "886          887         0       2   \n",
      "887          888         1       1   \n",
      "888          889         0       3   \n",
      "889          890         1       1   \n",
      "890          891         0       3   \n",
      "\n",
      "                                                  Name     Sex   Age  SibSp  \\\n",
      "0                              Braund, Mr. Owen Harris    male  22.0      1   \n",
      "1    Cumings, Mrs. John Bradley (Florence Briggs Th...  female  38.0      1   \n",
      "2                               Heikkinen, Miss. Laina  female  26.0      0   \n",
      "3         Futrelle, Mrs. Jacques Heath (Lily May Peel)  female  35.0      1   \n",
      "4                             Allen, Mr. William Henry    male  35.0      0   \n",
      "..                                                 ...     ...   ...    ...   \n",
      "886                              Montvila, Rev. Juozas    male  27.0      0   \n",
      "887                       Graham, Miss. Margaret Edith  female  19.0      0   \n",
      "888           Johnston, Miss. Catherine Helen \"Carrie\"  female   NaN      1   \n",
      "889                              Behr, Mr. Karl Howell    male  26.0      0   \n",
      "890                                Dooley, Mr. Patrick    male  32.0      0   \n",
      "\n",
      "     Parch            Ticket     Fare Cabin Embarked  \n",
      "0        0         A/5 21171   7.2500   NaN        S  \n",
      "1        0          PC 17599  71.2833   C85        C  \n",
      "2        0  STON/O2. 3101282   7.9250   NaN        S  \n",
      "3        0            113803  53.1000  C123        S  \n",
      "4        0            373450   8.0500   NaN        S  \n",
      "..     ...               ...      ...   ...      ...  \n",
      "886      0            211536  13.0000   NaN        S  \n",
      "887      0            112053  30.0000   B42        S  \n",
      "888      2        W./C. 6607  23.4500   NaN        S  \n",
      "889      0            111369  30.0000  C148        C  \n",
      "890      0            370376   7.7500   NaN        Q  \n",
      "\n",
      "[891 rows x 12 columns]\n"
     ]
    }
   ],
   "source": [
    "print(train_data)\n"
   ]
  },
  {
   "cell_type": "code",
   "execution_count": 4,
   "id": "f9582abd",
   "metadata": {
    "execution": {
     "iopub.execute_input": "2023-04-23T08:49:34.187835Z",
     "iopub.status.busy": "2023-04-23T08:49:34.187379Z",
     "iopub.status.idle": "2023-04-23T08:49:34.192696Z",
     "shell.execute_reply": "2023-04-23T08:49:34.191470Z"
    },
    "papermill": {
     "duration": 0.013888,
     "end_time": "2023-04-23T08:49:34.195224",
     "exception": false,
     "start_time": "2023-04-23T08:49:34.181336",
     "status": "completed"
    },
    "tags": []
   },
   "outputs": [],
   "source": [
    "train_df=pd.DataFrame(train_data)\n",
    "test_df=pd.DataFrame(test_data)\n",
    "gender_submission_df=pd.DataFrame(gender_submission)"
   ]
  },
  {
   "cell_type": "code",
   "execution_count": 5,
   "id": "1e347181",
   "metadata": {
    "execution": {
     "iopub.execute_input": "2023-04-23T08:49:34.206308Z",
     "iopub.status.busy": "2023-04-23T08:49:34.205835Z",
     "iopub.status.idle": "2023-04-23T08:49:34.220669Z",
     "shell.execute_reply": "2023-04-23T08:49:34.219207Z"
    },
    "papermill": {
     "duration": 0.024316,
     "end_time": "2023-04-23T08:49:34.224106",
     "exception": false,
     "start_time": "2023-04-23T08:49:34.199790",
     "status": "completed"
    },
    "tags": []
   },
   "outputs": [
    {
     "name": "stdout",
     "output_type": "stream",
     "text": [
      "     Pclass   Age  SibSp  Parch\n",
      "0         3  22.0      1      0\n",
      "1         1  38.0      1      0\n",
      "2         3  26.0      0      0\n",
      "3         1  35.0      1      0\n",
      "4         3  35.0      0      0\n",
      "..      ...   ...    ...    ...\n",
      "886       2  27.0      0      0\n",
      "887       1  19.0      0      0\n",
      "888       3   NaN      1      2\n",
      "889       1  26.0      0      0\n",
      "890       3  32.0      0      0\n",
      "\n",
      "[891 rows x 4 columns]\n"
     ]
    }
   ],
   "source": [
    "X_train=train_df.drop(['PassengerId','Survived','Sex','Name','Ticket','Fare','Cabin','Embarked'],axis=1);\n",
    "y_train=train_df['Survived']\n",
    "print(X_train)"
   ]
  },
  {
   "cell_type": "code",
   "execution_count": 6,
   "id": "14f1c801",
   "metadata": {
    "execution": {
     "iopub.execute_input": "2023-04-23T08:49:34.236032Z",
     "iopub.status.busy": "2023-04-23T08:49:34.235633Z",
     "iopub.status.idle": "2023-04-23T08:49:34.247831Z",
     "shell.execute_reply": "2023-04-23T08:49:34.246294Z"
    },
    "papermill": {
     "duration": 0.021856,
     "end_time": "2023-04-23T08:49:34.250884",
     "exception": false,
     "start_time": "2023-04-23T08:49:34.229028",
     "status": "completed"
    },
    "tags": []
   },
   "outputs": [],
   "source": [
    "my_imputer = SimpleImputer()\n",
    "X_train= my_imputer.fit_transform(X_train)"
   ]
  },
  {
   "cell_type": "code",
   "execution_count": 7,
   "id": "2fc4e7ba",
   "metadata": {
    "execution": {
     "iopub.execute_input": "2023-04-23T08:49:34.262783Z",
     "iopub.status.busy": "2023-04-23T08:49:34.262355Z",
     "iopub.status.idle": "2023-04-23T08:49:34.274541Z",
     "shell.execute_reply": "2023-04-23T08:49:34.273248Z"
    },
    "papermill": {
     "duration": 0.02205,
     "end_time": "2023-04-23T08:49:34.277677",
     "exception": false,
     "start_time": "2023-04-23T08:49:34.255627",
     "status": "completed"
    },
    "tags": []
   },
   "outputs": [],
   "source": [
    "X_test=test_df.drop(['PassengerId','Sex','Name','Ticket','Fare','Cabin','Embarked'],axis=1);\n",
    "X_test=my_imputer.fit_transform(X_test)\n",
    "y_test=gender_submission_df['Survived']"
   ]
  },
  {
   "cell_type": "code",
   "execution_count": 8,
   "id": "49caf2af",
   "metadata": {
    "execution": {
     "iopub.execute_input": "2023-04-23T08:49:34.289435Z",
     "iopub.status.busy": "2023-04-23T08:49:34.288983Z",
     "iopub.status.idle": "2023-04-23T08:49:34.296512Z",
     "shell.execute_reply": "2023-04-23T08:49:34.295068Z"
    },
    "papermill": {
     "duration": 0.016303,
     "end_time": "2023-04-23T08:49:34.299273",
     "exception": false,
     "start_time": "2023-04-23T08:49:34.282970",
     "status": "completed"
    },
    "tags": []
   },
   "outputs": [
    {
     "name": "stdout",
     "output_type": "stream",
     "text": [
      "0      0\n",
      "1      1\n",
      "2      1\n",
      "3      1\n",
      "4      0\n",
      "      ..\n",
      "886    0\n",
      "887    1\n",
      "888    0\n",
      "889    1\n",
      "890    0\n",
      "Name: Survived, Length: 891, dtype: int64\n"
     ]
    }
   ],
   "source": [
    "print(y_train)"
   ]
  },
  {
   "cell_type": "code",
   "execution_count": 9,
   "id": "55d1115f",
   "metadata": {
    "execution": {
     "iopub.execute_input": "2023-04-23T08:49:34.311059Z",
     "iopub.status.busy": "2023-04-23T08:49:34.310648Z",
     "iopub.status.idle": "2023-04-23T08:49:34.344642Z",
     "shell.execute_reply": "2023-04-23T08:49:34.343140Z"
    },
    "papermill": {
     "duration": 0.043073,
     "end_time": "2023-04-23T08:49:34.347290",
     "exception": false,
     "start_time": "2023-04-23T08:49:34.304217",
     "status": "completed"
    },
    "tags": []
   },
   "outputs": [
    {
     "data": {
      "text/plain": [
       "LogisticRegression()"
      ]
     },
     "execution_count": 9,
     "metadata": {},
     "output_type": "execute_result"
    }
   ],
   "source": [
    "logistic_model = LogisticRegression()\n",
    "logistic_model.fit(X_train, y_train)"
   ]
  },
  {
   "cell_type": "code",
   "execution_count": 10,
   "id": "95d3527f",
   "metadata": {
    "execution": {
     "iopub.execute_input": "2023-04-23T08:49:34.358946Z",
     "iopub.status.busy": "2023-04-23T08:49:34.358547Z",
     "iopub.status.idle": "2023-04-23T08:49:34.364319Z",
     "shell.execute_reply": "2023-04-23T08:49:34.363005Z"
    },
    "papermill": {
     "duration": 0.014775,
     "end_time": "2023-04-23T08:49:34.366842",
     "exception": false,
     "start_time": "2023-04-23T08:49:34.352067",
     "status": "completed"
    },
    "tags": []
   },
   "outputs": [],
   "source": [
    "y_pred = logistic_model.predict(X_test)\n"
   ]
  },
  {
   "cell_type": "code",
   "execution_count": 11,
   "id": "319f9146",
   "metadata": {
    "execution": {
     "iopub.execute_input": "2023-04-23T08:49:34.378500Z",
     "iopub.status.busy": "2023-04-23T08:49:34.378064Z",
     "iopub.status.idle": "2023-04-23T08:49:34.387068Z",
     "shell.execute_reply": "2023-04-23T08:49:34.385797Z"
    },
    "papermill": {
     "duration": 0.017967,
     "end_time": "2023-04-23T08:49:34.389778",
     "exception": false,
     "start_time": "2023-04-23T08:49:34.371811",
     "status": "completed"
    },
    "tags": []
   },
   "outputs": [
    {
     "name": "stdout",
     "output_type": "stream",
     "text": [
      "     PassengerId\n",
      "0            892\n",
      "1            893\n",
      "2            894\n",
      "3            895\n",
      "4            896\n",
      "..           ...\n",
      "413         1305\n",
      "414         1306\n",
      "415         1307\n",
      "416         1308\n",
      "417         1309\n",
      "\n",
      "[418 rows x 1 columns]\n"
     ]
    }
   ],
   "source": [
    "submission=test_df[[\"PassengerId\"]]\n",
    "print(submission)"
   ]
  },
  {
   "cell_type": "code",
   "execution_count": 12,
   "id": "2c060a64",
   "metadata": {
    "execution": {
     "iopub.execute_input": "2023-04-23T08:49:34.401666Z",
     "iopub.status.busy": "2023-04-23T08:49:34.401233Z",
     "iopub.status.idle": "2023-04-23T08:49:34.407362Z",
     "shell.execute_reply": "2023-04-23T08:49:34.406482Z"
    },
    "papermill": {
     "duration": 0.015427,
     "end_time": "2023-04-23T08:49:34.410115",
     "exception": false,
     "start_time": "2023-04-23T08:49:34.394688",
     "status": "completed"
    },
    "tags": []
   },
   "outputs": [
    {
     "name": "stderr",
     "output_type": "stream",
     "text": [
      "/opt/conda/lib/python3.7/site-packages/ipykernel_launcher.py:1: SettingWithCopyWarning: \n",
      "A value is trying to be set on a copy of a slice from a DataFrame.\n",
      "Try using .loc[row_indexer,col_indexer] = value instead\n",
      "\n",
      "See the caveats in the documentation: https://pandas.pydata.org/pandas-docs/stable/user_guide/indexing.html#returning-a-view-versus-a-copy\n",
      "  \"\"\"Entry point for launching an IPython kernel.\n"
     ]
    }
   ],
   "source": [
    "submission[\"Survived\"]=y_pred"
   ]
  },
  {
   "cell_type": "code",
   "execution_count": 13,
   "id": "eed08e5e",
   "metadata": {
    "execution": {
     "iopub.execute_input": "2023-04-23T08:49:34.422100Z",
     "iopub.status.busy": "2023-04-23T08:49:34.421281Z",
     "iopub.status.idle": "2023-04-23T08:49:34.430317Z",
     "shell.execute_reply": "2023-04-23T08:49:34.429404Z"
    },
    "papermill": {
     "duration": 0.017916,
     "end_time": "2023-04-23T08:49:34.433034",
     "exception": false,
     "start_time": "2023-04-23T08:49:34.415118",
     "status": "completed"
    },
    "tags": []
   },
   "outputs": [
    {
     "name": "stdout",
     "output_type": "stream",
     "text": [
      "     PassengerId  Survived\n",
      "0            892         0\n",
      "1            893         0\n",
      "2            894         0\n",
      "3            895         0\n",
      "4            896         0\n",
      "..           ...       ...\n",
      "413         1305         0\n",
      "414         1306         1\n",
      "415         1307         0\n",
      "416         1308         0\n",
      "417         1309         0\n",
      "\n",
      "[418 rows x 2 columns]\n"
     ]
    }
   ],
   "source": [
    "print(submission)"
   ]
  },
  {
   "cell_type": "code",
   "execution_count": 14,
   "id": "41e22134",
   "metadata": {
    "execution": {
     "iopub.execute_input": "2023-04-23T08:49:34.444801Z",
     "iopub.status.busy": "2023-04-23T08:49:34.444324Z",
     "iopub.status.idle": "2023-04-23T08:49:34.456083Z",
     "shell.execute_reply": "2023-04-23T08:49:34.454805Z"
    },
    "papermill": {
     "duration": 0.021125,
     "end_time": "2023-04-23T08:49:34.459103",
     "exception": false,
     "start_time": "2023-04-23T08:49:34.437978",
     "status": "completed"
    },
    "tags": []
   },
   "outputs": [],
   "source": [
    "submission.to_csv(\"submission_2.csv\",index=None)"
   ]
  }
 ],
 "metadata": {
  "kernelspec": {
   "display_name": "Python 3",
   "language": "python",
   "name": "python3"
  },
  "language_info": {
   "codemirror_mode": {
    "name": "ipython",
    "version": 3
   },
   "file_extension": ".py",
   "mimetype": "text/x-python",
   "name": "python",
   "nbconvert_exporter": "python",
   "pygments_lexer": "ipython3",
   "version": "3.7.12"
  },
  "papermill": {
   "default_parameters": {},
   "duration": 13.149245,
   "end_time": "2023-04-23T08:49:35.287838",
   "environment_variables": {},
   "exception": null,
   "input_path": "__notebook__.ipynb",
   "output_path": "__notebook__.ipynb",
   "parameters": {},
   "start_time": "2023-04-23T08:49:22.138593",
   "version": "2.4.0"
  }
 },
 "nbformat": 4,
 "nbformat_minor": 5
}
